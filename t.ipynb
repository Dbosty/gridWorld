{
 "cells": [
  {
   "cell_type": "code",
   "execution_count": 22,
   "metadata": {},
   "outputs": [],
   "source": [
    "import matplotlib.pyplot as plt\n",
    "import matplotlib as mpl\n",
    "import pandas as pd\n",
    "import numpy as np\n",
    "import ast"
   ]
  },
  {
   "cell_type": "code",
   "execution_count": 43,
   "metadata": {},
   "outputs": [],
   "source": [
    "data = pd.read_csv('trajectories.csv')\n",
    "data['Trajectories'] = data['Trajectories'].apply(ast.literal_eval)\n",
    "data['List'] = data['List'].apply(ast.literal_eval)"
   ]
  },
  {
   "cell_type": "code",
   "execution_count": 46,
   "metadata": {},
   "outputs": [],
   "source": [
    "def plot_trajectory(path, trajectory):\n",
    "    'Plot trajectories (still no bueno as of right now, only plots first one)'\n",
    "    cmap1 = mpl.colors.ListedColormap(['gainsboro',      # Blank   --> Value = 0\n",
    "                                        'red',            # Evader  --> Value = (0, 1]\n",
    "                                        'green',          # Pursuer --> Value = (1, 2]\n",
    "                                        'black',          # Inacc   --> Value = 3\n",
    "                                        'darkseagreen',   # Acc_pv  --> Value = 4\n",
    "                                        'plum',           # Acc_nv  --> Value = 5\n",
    "                                        'skyblue'         # Acc_v   --> Value = 6\n",
    "                                    ])\n",
    "\n",
    "    gradients = np.arange(len(trajectory)) / len(trajectory)\n",
    "    fig, ax = plt.subplots()\n",
    "    cmap = plt.get_cmap('Reds')\n",
    "    norm = plt.Normalize(min(gradients), max(gradients))\n",
    "    for ind, traj in enumerate(trajectory):\n",
    "        color = cmap(norm(gradients[ind]))\n",
    "        ax.plot(traj[1], traj[0], 's', color=color, markersize=3, mouseover=True)\n",
    "    cax = ax.imshow(path, cmap=cmap1, mouseover=True)\n",
    "    # print(p)\n",
    "    plt.axis('off')\n",
    "    plt.show()"
   ]
  },
  {
   "cell_type": "code",
   "execution_count": 88,
   "metadata": {},
   "outputs": [
    {
     "data": {
      "image/png": "[encoded data removed]",
      "text/plain": [
       "<Figure size 640x480 with 1 Axes>"
      ]
     },
     "metadata": {},
     "output_type": "display_data"
    }
   ],
   "source": [
    "grid = data['Trajectories'][2][0]\n",
    "trajectory = data['List'][2][0]\n",
    "plot_trajectory(grid, trajectory)"
   ]
  },
  {
   "cell_type": "code",
   "execution_count": null,
   "metadata": {},
   "outputs": [],
   "source": []
  }
 ],
 "metadata": {
  "kernelspec": {
   "display_name": "base",
   "language": "python",
   "name": "python3"
  },
  "language_info": {
   "codemirror_mode": {
    "name": "ipython",
    "version": 3
   },
   "file_extension": ".py",
   "mimetype": "text/x-python",
   "name": "python",
   "nbconvert_exporter": "python",
   "pygments_lexer": "ipython3",
   "version": "3.11.4"
  }
 },
 "nbformat": 4,
 "nbformat_minor": 2
}
